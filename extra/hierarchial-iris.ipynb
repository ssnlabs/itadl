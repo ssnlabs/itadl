{
 "cells": [
  {
   "cell_type": "code",
   "execution_count": null,
   "metadata": {
    "vscode": {
     "languageId": "plaintext"
    }
   },
   "outputs": [],
   "source": [
    "import pandas as pd\n",
    "import numpy as np\n",
    "import matplotlib.pyplot as plt\n",
    "import seaborn as sns\n",
    "from scipy.cluster.hierarchy import dendrogram, linkage, fcluster\n",
    "from sklearn.preprocessing import StandardScaler\n",
    "\n",
    "df = pd.read_csv('2.Kmeans,Hierarical\\IRIS.csv')\n",
    "\n",
    "X = df.drop(columns=['species'])  \n",
    "\n",
    "scaler = StandardScaler()\n",
    "X_scaled = scaler.fit_transform(X)\n",
    "\n",
    "Z = linkage(X_scaled, method='ward')\n",
    "\n",
    "max_d = 3 \n",
    "df['hierarchical_cluster'] = fcluster(Z, max_d, criterion='maxclust')\n",
    "\n",
    "\n",
    "plt.figure(figsize=(10, 7))\n",
    "dendrogram(Z, truncate_mode='lastp', p=30, leaf_rotation=90, leaf_font_size=12)\n",
    "plt.title('Hierarchical Clustering Dendrogram')\n",
    "plt.xlabel('Cluster Size')\n",
    "plt.ylabel('Distance')\n",
    "plt.show()\n",
    "\n",
    "\n",
    "plt.figure(figsize=(10, 7))\n",
    "sns.scatterplot(x=df.iloc[:, 0], y=df.iloc[:, 1], hue=df['hierarchical_cluster'], palette='viridis')\n",
    "plt.title('Hierarchical Clustering Results')\n",
    "plt.xlabel('Feature 1')\n",
    "plt.ylabel('Feature 2')\n",
    "plt.legend(title='Cluster')\n",
    "plt.show()\n",
    "\n",
    "print(df[['species', 'hierarchical_cluster']].head())\n"
   ]
  }
 ],
 "metadata": {
  "language_info": {
   "name": "python"
  }
 },
 "nbformat": 4,
 "nbformat_minor": 2
}
