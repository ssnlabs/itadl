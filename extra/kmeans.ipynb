{
 "cells": [
  {
   "cell_type": "code",
   "execution_count": null,
   "metadata": {
    "vscode": {
     "languageId": "plaintext"
    }
   },
   "outputs": [],
   "source": [
    "import numpy as np\n",
    "import matplotlib.pyplot as plt\n",
    "from sklearn.datasets import load_iris\n",
    "from sklearn.cluster import KMeans\n",
    "from sklearn.metrics import accuracy_score\n",
    "from sklearn.preprocessing import LabelEncoder\n",
    "import pandas as pd\n",
    "\n",
    "# Load the Iris dataset\n",
    "iris = load_iris()\n",
    "X = iris.data\n",
    "y = iris.target\n",
    "print(iris)\n",
    "# Step 2: K-Means Clustering with k=3\n",
    "kmeans = KMeans(n_clusters=3, random_state=0)\n",
    "kmeans.fit(X)\n",
    "y_kmeans = kmeans.predict(X)\n",
    "\n",
    "# Step 3: Plot the Cluster Centroids and the Clusters\n",
    "\n",
    "plt.scatter(X[:, 0], X[:, 1], c=y_kmeans, cmap='viridis', marker='o', label='Data points')\n",
    "plt.scatter(kmeans.cluster_centers_[:, 0], kmeans.cluster_centers_[:, 1], s=100, c='red', marker='x', label='Centroids')\n",
    "plt.xlabel('Sepal Length')\n",
    "plt.ylabel('Sepal Width')\n",
    "plt.title('K-Means Clustering (k=3) with Cluster Centroids')\n",
    "plt.legend()\n",
    "plt.show()\n",
    "\n",
    "# Step 4: Compare Predicted Labels with Actual Labels\n",
    "# Note: K-Means does not guarantee the same cluster labels as the actual class labels, \n",
    "# so we need to relabel for comparison.\n",
    "# Find the best matching for KMeans labels to true labels\n",
    "label_encoder = LabelEncoder()\n",
    "y_kmeans_labels = label_encoder.fit_transform(y_kmeans)\n",
    "\n",
    "accuracy = accuracy_score(y, y_kmeans_labels)\n",
    "print(\"Accuracy of K-Means clustering compared to actual labels:\", accuracy)\n",
    "\n",
    "# Step 5: Determine Optimal Clusters Using Elbow Method\n",
    "inertia = []\n",
    "k_values = range(1, 11)\n",
    "\n",
    "for k in k_values:\n",
    "    kmeans = KMeans(n_clusters=k, random_state=0)\n",
    "    kmeans.fit(X)\n",
    "    inertia.append(kmeans.inertia_)\n",
    "\n",
    "# Plot the Elbow Method results\n",
    "plt.figure(figsize=(10, 6))\n",
    "plt.plot(k_values, inertia, marker='o')\n",
    "plt.xlabel('Number of Clusters (k)')\n",
    "plt.ylabel('Inertia (Within-cluster Sum of Squares)')\n",
    "plt.title('Elbow Method for Optimal k')\n",
    "plt.show()\n"
   ]
  }
 ],
 "metadata": {
  "language_info": {
   "name": "python"
  }
 },
 "nbformat": 4,
 "nbformat_minor": 2
}
