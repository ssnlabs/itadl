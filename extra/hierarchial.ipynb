{
 "cells": [
  {
   "cell_type": "code",
   "execution_count": null,
   "metadata": {
    "vscode": {
     "languageId": "plaintext"
    }
   },
   "outputs": [],
   "source": [
    "scaler = StandardScaler()\n",
    "X_scaled = scaler.fit_transform(X)\n",
    "import pandas as pd\n",
    "import matplotlib.pyplot as plt\n",
    "from scipy.cluster.hierarchy import dendrogram, linkage\n",
    "from sklearn.preprocessing import StandardScaler\n",
    "\n",
    "# Step 1: Load the Mall Customers dataset\n",
    "# Replace with the actual path of your dataset\n",
    "data = pd.read_csv('Mall_Customers.csv')\n",
    "\n",
    "# Selecting features for clustering (Annual Income and Spending Score)\n",
    "X = data[['Annual Income (k$)', 'Spending Score (1-100)']]\n",
    "\n",
    "# Step 2: Standardize the data (optional but\n",
    "# Step 3: Apply Hierarchical Clustering using linkage\n",
    "# Using the Ward method, which minimizes variance within clusters\n",
    "linked = linkage(X_scaled, method='ward')\n",
    "\n",
    "# Step 4: Plot the Dendrogram to visualize clustering\n",
    "plt.figure(figsize=(40, 7))\n",
    "dendrogram(linked,\n",
    "           orientation='top',\n",
    "           distance_sort='ascending',\n",
    "           show_leaf_counts=True)\n",
    "plt.title('Hierarchical Clustering Dendrogram')\n",
    "plt.xlabel('Data Points')\n",
    "plt.ylabel('Distance')\n",
    "plt.show()\n",
    "\n",
    "# Step 5: Set the threshold based on the longest vertical distance without merges\n",
    "# Here we visually decide the threshold for the optimal number of clusters\n",
    "# For example, if we decide to cut at a certain point\n"
   ]
  }
 ],
 "metadata": {
  "language_info": {
   "name": "python"
  }
 },
 "nbformat": 4,
 "nbformat_minor": 2
}
